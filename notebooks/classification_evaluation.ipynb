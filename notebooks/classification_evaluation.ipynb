{
 "cells": [
  {
   "cell_type": "code",
   "execution_count": 3,
   "metadata": {
    "collapsed": true
   },
   "outputs": [],
   "source": [
    "import base64\n",
    "import os\n",
    "import json\n",
    "import requests\n",
    "import numpy as np\n",
    "from sklearn import metrics\n",
    "import matplotlib.pyplot as plt\n",
    "%matplotlib inline"
   ]
  },
  {
   "cell_type": "code",
   "execution_count": 4,
   "metadata": {
    "collapsed": false
   },
   "outputs": [],
   "source": [
    "CLASSIFICATION_ENDPOINT = 'http://p27.arquivo.pt:9080/safeimage'\n",
    "#N_DATA_VALIDATION_PATH = '/home/dbicho/Documents/FilterProject/validation_images/NotSafe/'\n",
    "#S_DATA_VALIDATION_PATH = '/home/dbicho/Documents/FilterProject/validation_images/Safe/'\n",
    "S_DATA_VALIDATION_PATH = '/home/dbicho/Documents/FilterProject/validation_images_1/Safe/'\n",
    "N_DATA_VALIDATION_PATH = '/home/dbicho/Documents/FilterProject/validation_images_1/NotSafe/'\n",
    "\n",
    "labels = []\n",
    "scores = []\n",
    "\n",
    "number_of_n = 0\n",
    "number_of_s = 0\n",
    "scores_list_n = []\n",
    "scores_list_s = []\n",
    "\n",
    "for path in os.listdir(N_DATA_VALIDATION_PATH):    \n",
    "    image_file_path = os.path.join(N_DATA_VALIDATION_PATH,path)    \n",
    "    if os.path.isfile(image_file_path):        \n",
    "        # classify\n",
    "        with open(image_file_path) as file:\n",
    "            image_64 = base64.b64encode(file.read())\n",
    "            json_data = {\"image\": image_64}\n",
    "            response = requests.post(CLASSIFICATION_ENDPOINT, json=json_data)            \n",
    "            response_json = json.loads(response.content)            \n",
    "            scores_list_n.append(float(response_json[\"NSFW\"]))\n",
    "            number_of_n += 1\n",
    "            \n",
    "for path in os.listdir(S_DATA_VALIDATION_PATH):    \n",
    "    image_file_path = os.path.join(S_DATA_VALIDATION_PATH,path)    \n",
    "    if os.path.isfile(image_file_path):        \n",
    "        # classify\n",
    "        with open(image_file_path) as file:\n",
    "            image_64 = base64.b64encode(file.read())\n",
    "            json_data = {\"image\": image_64}\n",
    "            response = requests.post(CLASSIFICATION_ENDPOINT, json=json_data)            \n",
    "            response_json = json.loads(response.content)            \n",
    "            scores_list_s.append(float(response_json[\"NSFW\"]))\n",
    "            number_of_s += 1"
   ]
  },
  {
   "cell_type": "code",
   "execution_count": 5,
   "metadata": {
    "collapsed": false
   },
   "outputs": [],
   "source": [
    "y_true = np.hstack((np.zeros(number_of_s),np.ones(number_of_n)))\n",
    "scores = np.hstack((np.asarray(scores_list_s),np.asarray(scores_list_n)))"
   ]
  },
  {
   "cell_type": "code",
   "execution_count": 11,
   "metadata": {
    "collapsed": false
   },
   "outputs": [],
   "source": [
    "fpr, tpr, thresholds = metrics.roc_curve(y_true, scores, pos_label=1)\n",
    "AUC = metrics.roc_auc_score(y_true, scores)\n",
    "#CF = metrics.confusion_matrix(y_true, scores)"
   ]
  },
  {
   "cell_type": "code",
   "execution_count": 9,
   "metadata": {
    "collapsed": false
   },
   "outputs": [
    {
     "data": {
      "image/png": "[encoded data removed]",
      "text/plain": [
       "<matplotlib.figure.Figure at 0x7f0f2dd222d0>"
      ]
     },
     "metadata": {},
     "output_type": "display_data"
    }
   ],
   "source": [
    "lw = 2\n",
    "plt.plot(fpr, tpr, color='darkorange',\n",
    "         lw=lw, label='ROC curve (area = %0.2f)' % AUC)\n",
    "plt.plot([0, 1], [0, 1], color='navy', lw=lw, linestyle='--')\n",
    "plt.xlim([0.0, 1.0])\n",
    "plt.ylim([0.0, 1.05])\n",
    "plt.xlabel('False Positive Rate')\n",
    "plt.ylabel('True Positive Rate')\n",
    "plt.title('Receiver operating characteristic')\n",
    "plt.legend(loc=\"lower right\")\n",
    "plt.show()"
   ]
  }
 ],
 "metadata": {
  "kernelspec": {
   "display_name": "Python 2",
   "language": "python",
   "name": "python2"
  },
  "language_info": {
   "codemirror_mode": {
    "name": "ipython",
    "version": 2
   },
   "file_extension": ".py",
   "mimetype": "text/x-python",
   "name": "python",
   "nbconvert_exporter": "python",
   "pygments_lexer": "ipython2",
   "version": "2.7.12"
  }
 },
 "nbformat": 4,
 "nbformat_minor": 0
}
